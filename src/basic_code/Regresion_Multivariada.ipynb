{
 "cells": [
  {
   "cell_type": "markdown",
   "metadata": {},
   "source": [
    "# Regresión lineal multivariada\n",
    "\n",
    "---\n",
    "\n",
    "#### Bibliotecas"
   ]
  },
  {
   "cell_type": "code",
   "execution_count": 1,
   "metadata": {},
   "outputs": [],
   "source": [
    "# Importar las bibliotecas necesarias\n",
    "import numpy as np\n",
    "import pandas as pd\n",
    "from sklearn.model_selection import train_test_split\n",
    "from sklearn.linear_model import LinearRegression\n",
    "from sklearn.metrics import mean_squared_error, r2_score"
   ]
  },
  {
   "cell_type": "markdown",
   "metadata": {},
   "source": [
    "---\n",
    "\n",
    "### Datos"
   ]
  },
  {
   "cell_type": "code",
   "execution_count": 3,
   "metadata": {},
   "outputs": [],
   "source": [
    "# Generar un conjunto de datos de ejemplo (si tienes datos, reemplázalos aquí)\n",
    "# Crear un DataFrame con datos ficticios\n",
    "np.random.seed(0)\n",
    "num_samples = 100\n",
    "\n",
    "# Variables independientes (características)\n",
    "X = pd.DataFrame({\n",
    "    'Feature1': np.random.rand(num_samples) * 10,\n",
    "    'Feature2': np.random.rand(num_samples) * 50,\n",
    "    'Feature3': np.random.rand(num_samples) * 100\n",
    "})\n",
    "\n",
    "# Variable dependiente (objetivo) con algo de ruido\n",
    "y = 3.5 * X['Feature1'] + 2.1 * X['Feature2'] + 1.7 * X['Feature3'] + np.random.randn(num_samples) * 5\n",
    "\n",
    "# Dividir los datos en conjuntos de entrenamiento y prueba (80% entrenamiento, 20% prueba)\n",
    "X_train, X_test, y_train, y_test = train_test_split(X, y, test_size=0.2, random_state=42)"
   ]
  },
  {
   "cell_type": "markdown",
   "metadata": {},
   "source": [
    "---\n",
    "### Entrenamiento"
   ]
  },
  {
   "cell_type": "code",
   "execution_count": 5,
   "metadata": {},
   "outputs": [
    {
     "name": "stdout",
     "output_type": "stream",
     "text": [
      "Coeficientes: [3.17546243 2.04692891 1.69109399]\n",
      "Intercepto: 2.767788397803969\n",
      "Error cuadrático medio (MSE): 29.28082095044936\n",
      "Coeficiente de determinación (R²): 0.9936038829004042\n"
     ]
    }
   ],
   "source": [
    "# Crear el modelo de regresión lineal\n",
    "model = LinearRegression()\n",
    "\n",
    "# Entrenar el modelo con el conjunto de entrenamiento\n",
    "model.fit(X_train, y_train)\n",
    "\n",
    "# Hacer predicciones con el conjunto de prueba\n",
    "y_pred = model.predict(X_test)\n",
    "\n",
    "# Evaluar el modelo\n",
    "mse = mean_squared_error(y_test, y_pred)\n",
    "r2 = r2_score(y_test, y_pred)\n",
    "\n",
    "print(\"Coeficientes:\", model.coef_)\n",
    "print(\"Intercepto:\", model.intercept_)\n",
    "print(\"Error cuadrático medio (MSE):\", mse)\n",
    "print(\"Coeficiente de determinación (R²):\", r2)"
   ]
  }
 ],
 "metadata": {
  "kernelspec": {
   "display_name": "env",
   "language": "python",
   "name": "python3"
  },
  "language_info": {
   "codemirror_mode": {
    "name": "ipython",
    "version": 3
   },
   "file_extension": ".py",
   "mimetype": "text/x-python",
   "name": "python",
   "nbconvert_exporter": "python",
   "pygments_lexer": "ipython3",
   "version": "3.11.9"
  }
 },
 "nbformat": 4,
 "nbformat_minor": 2
}
